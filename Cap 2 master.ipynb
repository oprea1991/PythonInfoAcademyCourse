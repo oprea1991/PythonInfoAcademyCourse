{
 "cells": [
  {
   "cell_type": "code",
   "execution_count": 1,
   "id": "3f9974da",
   "metadata": {},
   "outputs": [
    {
     "data": {
      "text/html": [
       "\n",
       "<style>\n",
       "     .blue {\n",
       "         color: blue;\n",
       "     }\n",
       "     \n",
       "    .orange {\n",
       "         color: orange;\n",
       "     }\n",
       "     \n",
       "     .red {\n",
       "         color: red;\n",
       "     }\n",
       "\n",
       "     .trcz {\n",
       "         color:#48CAE4;\n",
       "     }\n",
       "\n",
       "     .trcz a {\n",
       "         color: inherit;\n",
       "     }\n",
       "\n",
       "     .green {\n",
       "         color: green;\n",
       "     }\n",
       "\n",
       "     .ita {\n",
       "         font-style: italic;\n",
       "     }\n",
       "     \n",
       "     .vio {\n",
       "        font-style: violet;\n",
       "     }\n",
       "\n",
       "\n",
       "</style>\n"
      ],
      "text/plain": [
       "<IPython.core.display.HTML object>"
      ]
     },
     "execution_count": 1,
     "metadata": {},
     "output_type": "execute_result"
    }
   ],
   "source": [
    "from ipythoncss import HTML, STILURI\n",
    "HTML(STILURI)"
   ]
  },
  {
   "cell_type": "code",
   "execution_count": null,
   "id": "9e2872f7",
   "metadata": {},
   "outputs": [],
   "source": [
    "import sys\n",
    "sys.path\n",
    "sys.path.extend(['C:\\\\Users\\\\paul\\\\OneDrive\\\\Documents\\\\__PyThOn'\n",
    "            'C:\\\\Users\\\\paul\\\\OneDrive\\\\Documents\\\\__PyThOn\\\\0 PyP\\\\_module',\n",
    "            'C:\\\\Users\\\\paul\\\\OneDrive\\\\Documents\\\\__PyThOn\\\\venv\\\\Lib\\\\site-packages'])"
   ]
  },
  {
   "cell_type": "markdown",
   "id": "48115577",
   "metadata": {},
   "source": [
    "# <span class=\"blue\">2. Manipularea sirurilor de caractere, decizii, bucle"
   ]
  },
  {
   "cell_type": "markdown",
   "id": "3317fb8f",
   "metadata": {},
   "source": [
    "# <span class=\"blue\">2.1. Manipularea sirurilor de caractere"
   ]
  },
  {
   "cell_type": "markdown",
   "id": "4fff1c30",
   "metadata": {},
   "source": [
    "## <span class=\"trcz\">2.1.1. Introducere"
   ]
  },
  {
   "cell_type": "markdown",
   "id": "77ec0b49",
   "metadata": {},
   "source": [
    "### - Un șir de caractere (string) este un șir chiar dacă are în componență doar cifre;\n",
    "\n",
    "### - Nu există conversie implicită între tipuri de date;\n",
    "\n",
    "### - Șirul de caractere se delimitează prin ghilimele sau apostroafe;\n",
    "\n",
    "### - Pentru striguri \"+\" înseamnă concatenare, \"*\" înseamnă multiplicare;\n",
    "\n",
    "### - Putem introduce un șir de caractere de la tastatura, într-o variabilă, cu input();\n",
    "\n",
    "### - Putem utiliza ghilimelele triple pentru a scrie și vizualiza  un text pe mai multe rânduri;"
   ]
  },
  {
   "cell_type": "markdown",
   "id": "df24e448",
   "metadata": {},
   "source": [
    "## <span class=\"trcz\">2.1.2. Indexare"
   ]
  },
  {
   "attachments": {
    "image-2.png": {
     "image/png": "[encoded data removed]"
    }
   },
   "cell_type": "markdown",
   "id": "e0beee70",
   "metadata": {},
   "source": [
    "### - Indexare pozitivă, de la stânga la dreapta (începe cu 0)\n",
    "\n",
    "### - Indexare negativă, de la dreapta la stânga (începe cu -1)\n",
    "\n",
    "### - Identificăm în mod unic un caracter sau un subșir\n",
    "\n",
    "![image-2.png](attachment:image-2.png)"
   ]
  },
  {
   "cell_type": "code",
   "execution_count": null,
   "id": "b02a30cf",
   "metadata": {},
   "outputs": [],
   "source": [
    "# cautare caracter dupa index\n"
   ]
  },
  {
   "cell_type": "markdown",
   "id": "c0576373",
   "metadata": {},
   "source": [
    "## <span class=\"trcz\">2.1.3. Metode aplicabile sirurilor de caractere"
   ]
  },
  {
   "cell_type": "markdown",
   "id": "25afb2a4",
   "metadata": {},
   "source": [
    "### - ce este o metoda?\n",
    "### - cum se apeleaza?\n",
    "        variabila.metoda() \n",
    "### - care sunt metodele aplicabile?\n",
    "        dir(variabila)"
   ]
  },
  {
   "cell_type": "markdown",
   "id": "fe73e553",
   "metadata": {},
   "source": [
    "### <span class=\"ita\"> <span class=\"green\"> - string.upper() </span> - doar majuscule"
   ]
  },
  {
   "cell_type": "code",
   "execution_count": null,
   "id": "b8e6c11e",
   "metadata": {},
   "outputs": [],
   "source": []
  },
  {
   "cell_type": "markdown",
   "id": "70e28fa8",
   "metadata": {},
   "source": [
    "### <span class=\"ita\"> <span class=\"green\"> - string.lower() </span> - doar litere mici"
   ]
  },
  {
   "cell_type": "code",
   "execution_count": null,
   "id": "96f2142a",
   "metadata": {},
   "outputs": [],
   "source": []
  },
  {
   "cell_type": "markdown",
   "id": "a1dd1fba",
   "metadata": {},
   "source": [
    "### <span class=\"ita\"> <span class=\"green\"> - string.title() </span> - prima litera a fiecarui cuvant majuscula"
   ]
  },
  {
   "cell_type": "code",
   "execution_count": null,
   "id": "279af45b",
   "metadata": {},
   "outputs": [],
   "source": []
  },
  {
   "cell_type": "markdown",
   "id": "4d1194c6",
   "metadata": {},
   "source": [
    "### <span class=\"ita\"> <span class=\"green\"> - string.capitalize() </span> - prima litera din string majuscula"
   ]
  },
  {
   "cell_type": "code",
   "execution_count": null,
   "id": "13158f86",
   "metadata": {},
   "outputs": [],
   "source": []
  },
  {
   "cell_type": "markdown",
   "id": "8817ad0a",
   "metadata": {},
   "source": [
    "### <span class=\"ita\"> <span class=\"green\"> - string.isdigit()\t </span> - testeaza daca are doar cifre"
   ]
  },
  {
   "cell_type": "code",
   "execution_count": null,
   "id": "f97578ea",
   "metadata": {},
   "outputs": [],
   "source": []
  },
  {
   "cell_type": "markdown",
   "id": "ff6c4b24",
   "metadata": {},
   "source": [
    "### <span class=\"ita\"> <span class=\"green\"> - string.isnumeric() </span> - testeasa daca are cifre sau echivalente de cifre"
   ]
  },
  {
   "cell_type": "code",
   "execution_count": null,
   "id": "5382fc3a",
   "metadata": {},
   "outputs": [],
   "source": []
  },
  {
   "cell_type": "markdown",
   "id": "cfb33129",
   "metadata": {},
   "source": [
    "### <span class=\"ita\"> <span class=\"green\"> - string.isalpha() </span> - testeaza daca are doar litere"
   ]
  },
  {
   "cell_type": "code",
   "execution_count": null,
   "id": "c24988f6",
   "metadata": {},
   "outputs": [],
   "source": []
  },
  {
   "cell_type": "markdown",
   "id": "0320fa09",
   "metadata": {},
   "source": [
    "### <span class=\"ita\"> <span class=\"green\"> - string.isalnum() </span> - testeaza daca are doar cifre si litere"
   ]
  },
  {
   "cell_type": "code",
   "execution_count": null,
   "id": "3d4d3154",
   "metadata": {},
   "outputs": [],
   "source": []
  },
  {
   "cell_type": "markdown",
   "id": "3f191228",
   "metadata": {},
   "source": [
    "### <span class=\"ita\"> <span class=\"green\"> - string.isspace() </span> - testeaza daca are doar spatii"
   ]
  },
  {
   "cell_type": "code",
   "execution_count": null,
   "id": "85fdb3b0",
   "metadata": {},
   "outputs": [],
   "source": []
  },
  {
   "cell_type": "markdown",
   "id": "ad7016de",
   "metadata": {},
   "source": [
    "### <span class=\"ita\"> <span class=\"green\"> - string.istitle() </span> - testeaza daca toate cuvintele incep cu litera mare"
   ]
  },
  {
   "cell_type": "code",
   "execution_count": null,
   "id": "40dd0058",
   "metadata": {},
   "outputs": [],
   "source": []
  },
  {
   "cell_type": "markdown",
   "id": "f7de6fb0",
   "metadata": {},
   "source": [
    "### <span class=\"ita\"> <span class=\"green\"> - string.isupper() </span> - testeaza daca are doar majuscule"
   ]
  },
  {
   "cell_type": "code",
   "execution_count": null,
   "id": "243e1595",
   "metadata": {},
   "outputs": [],
   "source": []
  },
  {
   "cell_type": "markdown",
   "id": "d3c2daae",
   "metadata": {},
   "source": [
    "### <span class=\"ita\"> <span class=\"green\"> - string.islower() </span> - testeaza daca are doar litere mici"
   ]
  },
  {
   "cell_type": "code",
   "execution_count": null,
   "id": "778216fd",
   "metadata": {},
   "outputs": [],
   "source": []
  },
  {
   "cell_type": "markdown",
   "id": "b7319779",
   "metadata": {},
   "source": [
    "### <span class=\"ita\"> <span class=\"green\"> - string.startswith(subsir)\t </span> testeaza daca incepe cu ..."
   ]
  },
  {
   "cell_type": "code",
   "execution_count": null,
   "id": "382a3b82",
   "metadata": {},
   "outputs": [],
   "source": []
  },
  {
   "cell_type": "markdown",
   "id": "f97f8f6d",
   "metadata": {},
   "source": [
    "### <span class=\"ita\"> <span class=\"green\"> - string.endswith(subsir)  </span> testeaza daca se termina cu ..."
   ]
  },
  {
   "cell_type": "code",
   "execution_count": null,
   "id": "09398d57",
   "metadata": {},
   "outputs": [],
   "source": []
  },
  {
   "cell_type": "markdown",
   "id": "7c474e49",
   "metadata": {},
   "source": [
    "### <span class=\"ita\"> <span class=\"green\"> - string.split([subsir]) </span> - face split, implicit dupa spatii"
   ]
  },
  {
   "cell_type": "code",
   "execution_count": null,
   "id": "5143df73",
   "metadata": {},
   "outputs": [],
   "source": []
  },
  {
   "cell_type": "markdown",
   "id": "6dd021f9",
   "metadata": {},
   "source": [
    "### <span class=\"ita\"> <span class=\"green\"> - string.join </span> - genereaza un string \"lipind\" mai multe stringuri"
   ]
  },
  {
   "cell_type": "code",
   "execution_count": null,
   "id": "e4e3d0e2",
   "metadata": {},
   "outputs": [],
   "source": []
  },
  {
   "cell_type": "markdown",
   "id": "f1e3288a",
   "metadata": {},
   "source": [
    "### <span class=\"ita\"> <span class=\"green\"> - string.strip() \t </span> - elimina spatiile de le ambele capete ale stringului"
   ]
  },
  {
   "cell_type": "code",
   "execution_count": null,
   "id": "94f57bf5",
   "metadata": {},
   "outputs": [],
   "source": []
  },
  {
   "cell_type": "markdown",
   "id": "e1e8ca67",
   "metadata": {},
   "source": [
    "### <span class=\"ita\"> <span class=\"green\"> - string.lstrip() </span> - elimina spatiile din stanga"
   ]
  },
  {
   "cell_type": "code",
   "execution_count": null,
   "id": "0d9c9bda",
   "metadata": {},
   "outputs": [],
   "source": []
  },
  {
   "cell_type": "markdown",
   "id": "0783ef98",
   "metadata": {},
   "source": [
    "### <span class=\"ita\"> <span class=\"green\"> - string.rstrip() </span> - elimina spatiile din dreapta"
   ]
  },
  {
   "cell_type": "code",
   "execution_count": null,
   "id": "631c71a2",
   "metadata": {},
   "outputs": [],
   "source": []
  },
  {
   "cell_type": "markdown",
   "id": "08ac849a",
   "metadata": {},
   "source": [
    "### <span class=\"ita\"> <span class=\"green\"> - string.ljust() </span> - aliniaza textul la stanga"
   ]
  },
  {
   "cell_type": "code",
   "execution_count": null,
   "id": "5ab38b56",
   "metadata": {},
   "outputs": [],
   "source": []
  },
  {
   "cell_type": "markdown",
   "id": "6400ea75",
   "metadata": {},
   "source": [
    "### <span class=\"ita\"> <span class=\"green\"> - string.rjust() </span> - aliniaza textul la dreapta"
   ]
  },
  {
   "cell_type": "code",
   "execution_count": null,
   "id": "b6d5597a",
   "metadata": {},
   "outputs": [],
   "source": []
  },
  {
   "cell_type": "markdown",
   "id": "5cc217ff",
   "metadata": {},
   "source": [
    "### <span class=\"ita\"> <span class=\"green\"> - string.center() </span> - aliniaza textul centrat"
   ]
  },
  {
   "cell_type": "code",
   "execution_count": null,
   "id": "03efd19c",
   "metadata": {},
   "outputs": [],
   "source": []
  },
  {
   "cell_type": "markdown",
   "id": "5f368681",
   "metadata": {},
   "source": [
    "### <span class=\"ita\"> <span class=\"green\"> - string.replace(subsir_vechi, subsir_nou) </span> - inlocuieste un subsir cu un altul (toate aparitiile)"
   ]
  },
  {
   "cell_type": "code",
   "execution_count": null,
   "id": "9c28d809",
   "metadata": {},
   "outputs": [],
   "source": []
  },
  {
   "cell_type": "markdown",
   "id": "552d5c44",
   "metadata": {},
   "source": [
    "### <span class=\"ita\"> <span class=\"green\"> - string.find(subsir[, poz_start, poz_sfarsit])  </span> - cauta subsirul si returneaza indexul primului caracter sau -1"
   ]
  },
  {
   "cell_type": "code",
   "execution_count": null,
   "id": "e1a61d20",
   "metadata": {},
   "outputs": [],
   "source": []
  },
  {
   "cell_type": "markdown",
   "id": "23b41d85",
   "metadata": {},
   "source": [
    "### <span class=\"ita\"> <span class=\"green\"> - string.count(subsir)  </span> - cauta subsirul si returneaza numarul aparitiilor"
   ]
  },
  {
   "cell_type": "code",
   "execution_count": null,
   "id": "40b6bddc",
   "metadata": {},
   "outputs": [],
   "source": []
  },
  {
   "cell_type": "markdown",
   "id": "c743d980",
   "metadata": {},
   "source": [
    "### <span class=\"ita\"> <span class=\"green\"> - string.format(var0 [,var1,...])  </span> - formateaza stringul"
   ]
  },
  {
   "cell_type": "markdown",
   "id": "399b6ebb",
   "metadata": {},
   "source": [
    "### <ins>format - metacaractere</ins>     \n",
    "###  - <span class=\"red\">s</span>\t- pentru string. String este formatul default și poate să lipsească;\n",
    "###  - <span class=\"red\">b</span>\t- pentru binary, numere în baza 2;\n",
    "###  - <span class=\"red\">o</span>\t- pentru octal, numere în baza 8;\n",
    "###  - <span class=\"red\">x</span>\t- pentru hexazecimal, numere în baza 16, litere mici;\n",
    "###  - <span class=\"red\">X</span>\t- pentru hexazecimal, numere în baza 16, litere mari;\n",
    "###  - <span class=\"red\">d</span>\t- pentru decimal, numere in baza 10;\n",
    "###  - <span class=\"red\">n</span>\t- similar cu decimal cu separatoare grupe de cifre;\n",
    "###  - <span class=\"red\">e</span>\t- pentru numere în notatie stiintifica cu precizie de 6 caractere;\n",
    "###  - <span class=\"red\">f</span>\t- pentru numere raționale cu precizie de 6 caractere;\n",
    "###  - <span class=\"red\">%</span>\t- multiplica numarul cu 100 și-l returnează ca numar rațional."
   ]
  },
  {
   "cell_type": "code",
   "execution_count": null,
   "id": "ccb21749",
   "metadata": {},
   "outputs": [],
   "source": []
  },
  {
   "cell_type": "markdown",
   "id": "5fadb5f4",
   "metadata": {},
   "source": [
    "### <ins>format - placeholdere</ins>    \n",
    "### - într-un string plasăm unul sau mai multe placeholdere delimitate prin {  } și care cuprind un index numeric începând cu 0. Ex {0};\n",
    "\n",
    "### - în placeholdere putem avea constante, variabile sau expresii;\n",
    "\n",
    "### - în locul indecșilor putem avea identificatori. Ex {ziua};\n",
    "\n",
    "### - putem utiliza metoda format inclusiv pentru aliniere (>, <, ^). Sintaxa este {[index]:[caracter_completare] semn_aliniere număr_caractere};\n",
    "\n",
    "### - pentru numere float sau sub formă procentuală putem seta numărul de zecimale dorit {:.2f}, respectiv {:.2%};\n",
    "\n",
    "### - pentru numele în alte baze de numerație {:x} sau {:#x};\n",
    "\n",
    "### - putem completa un șir care conține cifre cu spații sau zerouri {:5d} sau {:05d}.\n"
   ]
  },
  {
   "cell_type": "code",
   "execution_count": null,
   "id": "ec18835c",
   "metadata": {},
   "outputs": [],
   "source": [
    "# nu conteaza ordinea placeholderelor\n",
    "print(\"Textul tau este: {2}, {1}, {0}, {2}\".format(\"x\", \"y\", \"z\")) "
   ]
  },
  {
   "cell_type": "code",
   "execution_count": null,
   "id": "e9afd8a7",
   "metadata": {},
   "outputs": [],
   "source": [
    "# putem utiliza variabile\n",
    "x, y, z = 10, 20, 30\n",
    "print(\"Utilizeaza variabilele anterioare: {2}, {2}, {0}, {1}, {0}\".format(z, y, x))"
   ]
  },
  {
   "cell_type": "code",
   "execution_count": null,
   "id": "36ff2ab7",
   "metadata": {},
   "outputs": [],
   "source": [
    "# formatarea stringurilor, argumente cu identificatori (nume de variabile locale):\n",
    "print(\"Produsul: {prod}, \\ncantitate: {cant}, \\npret: {pret}\".format(cant=100 * 2, pret=5, prod=\"cirese\"))"
   ]
  },
  {
   "cell_type": "code",
   "execution_count": null,
   "id": "78baf843",
   "metadata": {},
   "outputs": [],
   "source": [
    "# formatarea stringurilor alinierea textului:\n",
    "print(\"{0:*<15}\".format(\"stanga\"))  # completeaza spatii pana la 20 de caractere si aliniaza stanga\n",
    "print(\"{:->20}\".format(\"dreapta\"))  # idem dreapta 20 de caractere\n",
    "print(\"{:#^19}\".format(\"centrat\"))  # idem centrat 19 caractere\n",
    "print(\"Textul este {:*^19}\".format(\"centrat\"))  # centrarea si inlocuirea completarea cu caracterul *"
   ]
  },
  {
   "cell_type": "code",
   "execution_count": null,
   "id": "99c878f6",
   "metadata": {},
   "outputs": [],
   "source": [
    "# formatarea stringurilor - float cu nr de zecimale implicit sau setat de utilizator\n",
    "print(\"{: f}\".format(17/29))  # nr de zecimale implicit\n",
    "print(\"{:.2f}\".format(8.555))  # “ .2 “ face ca numarul de zecimale returnat sa fie 2"
   ]
  },
  {
   "cell_type": "code",
   "execution_count": null,
   "id": "2f086489",
   "metadata": {},
   "outputs": [],
   "source": [
    "# formatarea stringurilor - baze de numeratie\n",
    "print(\"int: {0:d};  hex: {1:X};  oct: {2:o};  bin: {3:b}\".format(99, 255, 8, 255))\n",
    "# sau cu reprezentarea specifica\n",
    "print(\"int: {0:d};  hex: {1:#x};  oct: {2:#o};  bin: {3:#b}\".format(100, 255, 63, 4))"
   ]
  },
  {
   "cell_type": "code",
   "execution_count": null,
   "id": "7bb3c296",
   "metadata": {},
   "outputs": [],
   "source": [
    "# formatarea stringurilor, completarea cu zpatii sau zerouri:\n",
    "print(\"{:5d}\".format(15))  # completarea cu spatii, in stanga, pana la lungimea de 5 caractere\n",
    "print(\"{:05d}\".format(15))  # completarea cu zerouri, in stanga, pana la lungimea de 5 caractere"
   ]
  },
  {
   "cell_type": "markdown",
   "id": "da5d0e4c",
   "metadata": {},
   "source": [
    "## <span class=\"trcz\">2.1.4. Formatare utilizand caracterul special %"
   ]
  },
  {
   "cell_type": "code",
   "execution_count": null,
   "id": "33f74def",
   "metadata": {},
   "outputs": [],
   "source": [
    "print(\"Printeaza un numar decimal: %d si un string: %s\" % (2, 'string'))"
   ]
  },
  {
   "cell_type": "code",
   "execution_count": null,
   "id": "9ebff5d0",
   "metadata": {},
   "outputs": [],
   "source": [
    "print(\"Printeaza un numar float: %f\" % 18.999)  # float cu sase zecimale(default)\n",
    "print(\"Printeaza un numar float: %.2f\" % 18.795)  # float cu numar fix de zecimale"
   ]
  },
  {
   "cell_type": "code",
   "execution_count": null,
   "id": "e42e77b3",
   "metadata": {},
   "outputs": [],
   "source": [
    "print(\"Doar un caracter: %c-%c\" % (32805, \"z\"))"
   ]
  },
  {
   "cell_type": "code",
   "execution_count": null,
   "id": "00b7f458",
   "metadata": {},
   "outputs": [],
   "source": [
    "print(\"Completeaza spatii la stanga: %5d\" % 17)\n",
    "print(\"Completeaza spatii la dreapta: %-10d!\" % 17)\n",
    "print(\"Completeaza zerouri la stanga:%05d\" % 17)"
   ]
  },
  {
   "cell_type": "code",
   "execution_count": null,
   "id": "cf4fa0c8",
   "metadata": {},
   "outputs": [],
   "source": [
    "print(\"Daca vrei hexazecimal: %#x\" % 255)"
   ]
  },
  {
   "cell_type": "markdown",
   "id": "0d75f7ac",
   "metadata": {},
   "source": [
    "## <span class=\"trcz\">2.1.5. Formatare utilizand \"fprint\""
   ]
  },
  {
   "cell_type": "code",
   "execution_count": null,
   "id": "51f136fe",
   "metadata": {},
   "outputs": [],
   "source": []
  },
  {
   "cell_type": "markdown",
   "id": "35de4e56",
   "metadata": {},
   "source": [
    "## <span class=\"trcz\">2.1.6. Functii utile pentru siruri de caractere"
   ]
  },
  {
   "cell_type": "markdown",
   "id": "ad20407e",
   "metadata": {},
   "source": [
    "### <span class=\"ita\"> <span class=\"green\"> - Functia <span class=\"red\">ord</span>(x)   </span> - returnează codul asociat unui caracter utf8"
   ]
  },
  {
   "cell_type": "code",
   "execution_count": null,
   "id": "85c2d4a3",
   "metadata": {},
   "outputs": [],
   "source": []
  },
  {
   "cell_type": "markdown",
   "id": "ec235ecd",
   "metadata": {},
   "source": [
    "### <span class=\"ita\"> <span class=\"green\"> - Functia <span class=\"red\">chr</span>(99)  </span> -  returnează caracterul utf8 corespunzator codului"
   ]
  },
  {
   "cell_type": "code",
   "execution_count": null,
   "id": "fbc37c52",
   "metadata": {},
   "outputs": [],
   "source": []
  },
  {
   "cell_type": "markdown",
   "id": "8d5d0fa1",
   "metadata": {},
   "source": [
    "### <span class=\"ita\"> <span class=\"green\"> - Functia <span class=\"red\">hex</span>(sir)  </span> -  returnează echivalentul numarului in baza 16 "
   ]
  },
  {
   "cell_type": "code",
   "execution_count": null,
   "id": "91b73832",
   "metadata": {},
   "outputs": [],
   "source": []
  },
  {
   "cell_type": "markdown",
   "id": "e4ebedca",
   "metadata": {},
   "source": [
    "### <span class=\"ita\"> <span class=\"green\"> - Functia <span class=\"red\">bin</span>(sir)  </span> - returnează echivalentul numarului in baza 2 "
   ]
  },
  {
   "cell_type": "code",
   "execution_count": null,
   "id": "78f31c0e",
   "metadata": {},
   "outputs": [],
   "source": []
  },
  {
   "cell_type": "markdown",
   "id": "4370ec2e",
   "metadata": {},
   "source": [
    "### <span class=\"ita\"> <span class=\"green\"> - Functia <span class=\"red\">len</span>(sir)    </span> - returnează numărul de caractere al șirului"
   ]
  },
  {
   "cell_type": "code",
   "execution_count": null,
   "id": "757bd8f8",
   "metadata": {},
   "outputs": [],
   "source": []
  },
  {
   "cell_type": "markdown",
   "id": "7bed1ced",
   "metadata": {},
   "source": [
    "# <span class=\"blue\">2.2. Intructiuni decizionale\n",
    "\n",
    "        if condiție1 :\t\t\t\n",
    "                expresie1\n",
    "            [elif conditie2:\n",
    "                expresie2\n",
    "            ...]\n",
    "            [else:\n",
    "                expresie_n]\t \n",
    "            \n",
    "### - condițiile sunt evaluate Boolean\n",
    " \n",
    "### - asimilate boolean (valorile \"zero\")\n",
    "\n",
    "### - indentarea face parte din sintaxă\n",
    "\n",
    "### - putem avea mai multe condiții if in if\n",
    " \n",
    "### - atenție la logica ordinii condițiilor "
   ]
  },
  {
   "cell_type": "markdown",
   "id": "41e901a2",
   "metadata": {},
   "source": [
    "## <span class=\"trcz\">2.2.1. if only"
   ]
  },
  {
   "cell_type": "code",
   "execution_count": null,
   "id": "0532a5e6",
   "metadata": {},
   "outputs": [],
   "source": [
    "from random import randint\n",
    "\n",
    "nota = randint(1, 10)\n",
    "\n",
    "if nota >= 5:\n",
    "    print('promovat')\n",
    "\n",
    "print(nota)"
   ]
  },
  {
   "cell_type": "markdown",
   "id": "0ef7807d",
   "metadata": {},
   "source": [
    "## <span class=\"trcz\">2.2.2. if...elif"
   ]
  },
  {
   "cell_type": "code",
   "execution_count": null,
   "id": "af3c9db3",
   "metadata": {},
   "outputs": [],
   "source": [
    "nota = randint(1, 10)\n",
    "\n",
    "if nota == 10:\n",
    "    print('foarte bine')\n",
    "elif nota == 5:\n",
    "    print('am trecut si de data asta!')\n",
    "\n",
    "print(nota)"
   ]
  },
  {
   "cell_type": "code",
   "execution_count": null,
   "id": "41eb4034",
   "metadata": {},
   "outputs": [],
   "source": []
  },
  {
   "cell_type": "markdown",
   "id": "ce9fe67d",
   "metadata": {},
   "source": [
    "## <span class=\"trcz\">2.2.3. if...else"
   ]
  },
  {
   "cell_type": "code",
   "execution_count": null,
   "id": "ce07229b",
   "metadata": {},
   "outputs": [],
   "source": [
    "nota = randint(1, 10)\n",
    "\n",
    "if nota >= 5:\n",
    "    print('promovat cu', nota)\n",
    "else:\n",
    "    print('nepromovat cu', nota)"
   ]
  },
  {
   "cell_type": "code",
   "execution_count": null,
   "id": "a4f781c5",
   "metadata": {},
   "outputs": [],
   "source": [
    "# schimba-mi 100 Euro\n",
    "\n",
    "valuta = input('Introduceti RON pentru conversia Euro in Lei sau EUR pt. conversia  Lei in Euro: ').upper()\n",
    "\n",
    "curs = 4.99\n",
    "\n",
    "if valuta.isalpha():\n",
    "    if valuta == 'RON':\n",
    "        euro = input('Cati euro schimbati? ')\n",
    "        if euro.isdigit():\n",
    "            euro = int(euro)\n",
    "            print('Ati primit', '%.2f' % float(euro * curs), 'RON')\n",
    "        else:\n",
    "            print('Nu ati introdus un numar intreg valid!')\n",
    "\n",
    "    elif valuta == 'EUR':\n",
    "        lei = input('Cati lei schimbati? ')\n",
    "        if lei.isdigit():\n",
    "            lei = int(lei)\n",
    "            print('Ati primit', '%.2f' % float(lei / curs), 'EURO')\n",
    "        else:\n",
    "            print('Nu ati introdus un numar valid!')\n",
    "\n",
    "    else:\n",
    "        print('Valuta inexistenta!')\n",
    "\n",
    "else:\n",
    "    print('Valoarea introdusa poate fi RON sau EUR!')"
   ]
  },
  {
   "cell_type": "code",
   "execution_count": null,
   "id": "0229c44b",
   "metadata": {},
   "outputs": [],
   "source": [
    "# Conditii multiple separate:\n",
    "\n",
    "x = 10\n",
    "\n",
    "if x == 10:\n",
    "    print('Adevarat')\n",
    "\n",
    "if x < 100:\n",
    "    print('Adevarat')"
   ]
  },
  {
   "cell_type": "code",
   "execution_count": null,
   "id": "e97a898a",
   "metadata": {},
   "outputs": [],
   "source": [
    "# Conditii multiple if in if:\n",
    "\n",
    "if x == 10:\n",
    "    print('Adevarat')\n",
    "    if x < 100:\n",
    "        print(x ** x)\n",
    "    print('Altceva')"
   ]
  },
  {
   "cell_type": "code",
   "execution_count": null,
   "id": "e5fd02df",
   "metadata": {},
   "outputs": [],
   "source": [
    "# Conditii multiple simultane (and):\n",
    "\n",
    "y = 20\n",
    "\n",
    "if x >= 0 and y >= 0:\n",
    "    print('x / y = : ', x / y)\n",
    "    print('x * y = : ', x * y)"
   ]
  },
  {
   "cell_type": "code",
   "execution_count": null,
   "id": "9b7ff3a2",
   "metadata": {},
   "outputs": [],
   "source": [
    "# Conditii multiple simultane (or):\n",
    "\n",
    "if x >= 10 or y < 20:\n",
    "    print(x - y)\n",
    "    print(x + y)"
   ]
  },
  {
   "cell_type": "markdown",
   "id": "fc74ad73",
   "metadata": {},
   "source": [
    "## <span class=\"trcz\"> 2.2.4. not"
   ]
  },
  {
   "cell_type": "code",
   "execution_count": null,
   "id": "c3f1d823",
   "metadata": {},
   "outputs": [],
   "source": [
    "# Operatorul ( not ) negarea conditiei ( inversarea valorii de adevar):\n",
    "\n",
    "if not x > 10:\n",
    "    print(' x este egal cu: ', x)"
   ]
  },
  {
   "cell_type": "markdown",
   "id": "f195629e",
   "metadata": {},
   "source": [
    "## <span class=\"trcz\">2.2.5. is"
   ]
  },
  {
   "cell_type": "code",
   "execution_count": null,
   "id": "c6118a64",
   "metadata": {},
   "outputs": [],
   "source": [
    "# Operatorul (is) compara doua variabile string stringuri  \n",
    "\n",
    "x = 'ana danseaza'\n",
    "y = 'ana danseaza'\n",
    "z = x\n",
    "\n",
    "print(x == y)\n",
    "print(x == z)\n",
    "print(x is y)\n",
    "print(x is z)\n",
    "print(id(x))\n",
    "print(id(y))\n",
    "print(id(z))\n"
   ]
  },
  {
   "cell_type": "code",
   "execution_count": null,
   "id": "7074377a",
   "metadata": {},
   "outputs": [],
   "source": [
    "# Operatorul (is) compara doua variabile numerice\n",
    "x = 10\n",
    "z = x\n",
    "y = 10\n",
    "\n",
    "if x is z:\n",
    "    print('x is z')  # cu is egalitatea se refera si la aceeasi\n",
    "    # zona de memorie ocupata p la 256 la numere\n",
    "\n",
    "print(x is z)\n",
    "id(x)\n",
    "id(z)\n",
    "id(y)"
   ]
  },
  {
   "cell_type": "markdown",
   "id": "e3347e3d",
   "metadata": {},
   "source": [
    "## <span class=\"trcz\">2.2.6. in"
   ]
  },
  {
   "cell_type": "code",
   "execution_count": null,
   "id": "a6c6d3a9",
   "metadata": {},
   "outputs": [],
   "source": [
    "# Operatorul (in) teseteaza existenta, incluziunea:\n",
    "\n",
    "sir = 'Astazi invatam despre if'\n",
    "\n",
    "test = 'nimic'\n",
    "\n",
    "if test in sir:\n",
    "    print('Indexul este: ', sir.find(test))"
   ]
  },
  {
   "cell_type": "code",
   "execution_count": null,
   "id": "fe71062e",
   "metadata": {},
   "outputs": [],
   "source": [
    "nor = True # False\n",
    "print('Soare'if nor is None else 'Nor')  \n",
    "\n",
    "# in alte limbaje - conditie ? val_pt_adevarat : val_pt_fals\n",
    "\n",
    "# in python - valoare_pt_adevarat if conditie else valoarepentru_false'"
   ]
  },
  {
   "cell_type": "markdown",
   "id": "488fab3c",
   "metadata": {},
   "source": [
    "## <span class=\"trcz\">2.2.7. Operatori de comparare"
   ]
  },
  {
   "cell_type": "code",
   "execution_count": null,
   "id": "0fc6c567",
   "metadata": {},
   "outputs": [],
   "source": [
    "# Operatori de comparare\n",
    "\n",
    "if 'Am un cos plin' >= 'Am un cos gol':     # comparatia efectiva la primul caracter diferit\n",
    "    print('E mai bine sa fie plin')\n",
    "else:\n",
    "    print('E mai bine sa fie gol')\n",
    "\n",
    "\n",
    "if 'mere' == 'pere':\n",
    "    print('Premiul Nobel')\n",
    "else:\n",
    "    print('Mai fa cercetari')\n",
    "\n",
    "\n",
    "if '100' >= 100:          # genereaza o eroare, nu putem compara tipuri diferite\n",
    "    print('Chiar asa?')"
   ]
  },
  {
   "cell_type": "markdown",
   "id": "d5673eef",
   "metadata": {},
   "source": [
    "## <span class=\"trcz\">2.2.8. Boolean"
   ]
  },
  {
   "cell_type": "code",
   "execution_count": null,
   "id": "1bd3d9c6",
   "metadata": {},
   "outputs": [],
   "source": [
    "# Operatori Boolean\n",
    "\n",
    "if 'Maria':                # nu ajunge niciodata pe ramura else\n",
    "    print('Soare')\n",
    "else:\n",
    "    print('Nor')\n",
    "\n",
    "# sau\n",
    "\n",
    "if False:                   # nu intra pe if niciodata\n",
    "    print('Soare')\n",
    "else:\n",
    "    print('Nor')\n"
   ]
  },
  {
   "cell_type": "markdown",
   "id": "8cc7ccc7",
   "metadata": {},
   "source": [
    "# <span class=\"blue\">2.3. Instructiuni repetitive (bucle)"
   ]
  },
  {
   "cell_type": "markdown",
   "id": "7bf50c3f",
   "metadata": {},
   "source": [
    "## <span class=\"trcz\">2.3.1. while\n",
    "\n",
    "### - este o instrucțiune repetitivă, de obicei fară un număr predefinit de iterații;\n",
    "### - se executa atâta timp cât o condiție este îndeplinită;\n",
    "### - consecința: putem avea bucle care nu rulează niciodată sau bucle care rulează la infinit;\n",
    "    sintaxă:\t\n",
    "            while (condiție) : \t\t\t\n",
    "                bloc de instrucțiuni \t"
   ]
  },
  {
   "cell_type": "code",
   "execution_count": null,
   "id": "d84534df",
   "metadata": {},
   "outputs": [],
   "source": [
    "# Exemplu while\n",
    "x = 100\n",
    "\n",
    "while x > 0:\n",
    "    print(x, end=', ')\n",
    "    #print('ana are', x, 'mere')\n",
    "    x -= 15     # decrementam valoarea lui x, ca sa asiguram iesirea din bucla.\n",
    "                # Daca omitem aceasta instructiune bucla devine infinita"
   ]
  },
  {
   "cell_type": "markdown",
   "id": "d4d50dc9",
   "metadata": {},
   "source": [
    "### <span class=\"green ita\">- break"
   ]
  },
  {
   "cell_type": "code",
   "execution_count": null,
   "id": "8a0cd647",
   "metadata": {},
   "outputs": [],
   "source": []
  },
  {
   "cell_type": "markdown",
   "id": "32108350",
   "metadata": {},
   "source": [
    "### <span class=\"green ita\">- continue"
   ]
  },
  {
   "cell_type": "code",
   "execution_count": null,
   "id": "945c1054",
   "metadata": {},
   "outputs": [],
   "source": []
  },
  {
   "cell_type": "markdown",
   "id": "279b0c98",
   "metadata": {},
   "source": [
    "### <span class=\"green ita\">- pass"
   ]
  },
  {
   "cell_type": "code",
   "execution_count": null,
   "id": "0a368205",
   "metadata": {},
   "outputs": [],
   "source": [
    "# Conversie repetata lei in lire sterline (apelare succesiva pana la conditia de iesire din bucla).\n",
    "\n",
    "curs = float(input('Introduceti cursul lei/GBP: '))\n",
    "\n",
    "while True:\n",
    "    lei = input('Introduceti suma sau ENTER pentru a iesi: ')\n",
    "\n",
    "    if lei == '':\n",
    "        print('Va multumim!')\n",
    "        break\n",
    "    elif lei.isdigit():\n",
    "        lei = int(lei)\n",
    "        print('Schimb efectuat. Ridicati suma de %.2f' % (lei / curs), 'GBP')\n",
    "    else:\n",
    "        print('Introduceti suma in format numar intreg!')"
   ]
  },
  {
   "cell_type": "markdown",
   "id": "fc66067e",
   "metadata": {},
   "source": [
    "## <span class=\"trcz\">2.3.2. for"
   ]
  },
  {
   "cell_type": "markdown",
   "id": "af195282",
   "metadata": {},
   "source": [
    "#### - for bucleaza prin diferite tipuri de obiecte \"iterable\"  (string, listă, tuplu, dicționar etc.) \n",
    "    sintaxa:\n",
    "            for variabilă in șir :\t\t\t\n",
    "                bloc de instrucțiuni \t\n",
    "\n",
    "#### - \"variabilă\" nu trebuie definita anterior, dar va crea/modifica variabila globală cu numele dat.\t"
   ]
  },
  {
   "cell_type": "code",
   "execution_count": null,
   "id": "85d97342",
   "metadata": {},
   "outputs": [],
   "source": [
    "# Tipareste caracterele unui sir si le numara\n",
    "sir = 'Ana nu mai are mere, are un cos cu cirese'\n",
    "print('Sirul tau este: ', sir)\n",
    "\n",
    "caracter = 12\n",
    "print(caracter)\n",
    "\n",
    "count = 0\n",
    "for caracter in sir:\n",
    "    print(caracter.upper(), end='-')\n",
    "    count += 1\n",
    "\n",
    "\n",
    "print('\\nSirul ales are: ', count, 'caractere!')\n",
    "\n",
    "print(caracter)"
   ]
  },
  {
   "cell_type": "markdown",
   "id": "e8631481",
   "metadata": {},
   "source": [
    "### <span class=\"green ita\">- break"
   ]
  },
  {
   "cell_type": "code",
   "execution_count": null,
   "id": "490ba52c",
   "metadata": {},
   "outputs": [],
   "source": [
    "# Numara apartiile unui caracter ... pana la un moment indicat\n",
    "sir = 'Teleenciclopedia'\n",
    "count = 0\n",
    "index = -1\n",
    "for i in sir:\n",
    "    index += 1\n",
    "    if i == 'e':\n",
    "        count += 1              # numara apartitiile caracterului dat\n",
    "    if count == 3:\n",
    "        print('Indexul este: ', index)  # daca, count ajunge la 3 returneaza\n",
    "        break  # indexul caracterului si iese din bucla\n",
    "\n",
    "print(count)"
   ]
  },
  {
   "cell_type": "markdown",
   "id": "d5dc4144",
   "metadata": {},
   "source": [
    "### <span class=\"green ita\">- continue"
   ]
  },
  {
   "cell_type": "code",
   "execution_count": null,
   "id": "c8fa2e88",
   "metadata": {},
   "outputs": [],
   "source": []
  },
  {
   "cell_type": "markdown",
   "id": "cebd8eaa",
   "metadata": {},
   "source": [
    "### <span class=\"green ita\">- pass"
   ]
  },
  {
   "cell_type": "code",
   "execution_count": null,
   "id": "c8acc491",
   "metadata": {},
   "outputs": [],
   "source": []
  },
  {
   "cell_type": "markdown",
   "id": "889c8e1b",
   "metadata": {},
   "source": [
    "### <span class=\"green ita\">- for ... in <span class=\"red\">range</span>()\n",
    "\n",
    "    for var in range(nr) :\t\t\t\n",
    "             print (var)\t\t# print numerele de la 0 la nr minus 1\n",
    "\n",
    "    for var in range(0, nr1, nr2) :\t\t\t\n",
    "             print (var)\t\t# print numerele de la 0 la nr1 incrementand nr2\n",
    "\n",
    "    for var in range(nr1, 0, nr3) :\t\t\t\n",
    "             print (var)\t\t# print numerele de la nr1 la nr2 decrem. Nr3\n",
    " "
   ]
  },
  {
   "cell_type": "code",
   "execution_count": null,
   "id": "f8bc7e74",
   "metadata": {},
   "outputs": [],
   "source": []
  },
  {
   "cell_type": "code",
   "execution_count": null,
   "id": "b77c7b8e",
   "metadata": {},
   "outputs": [],
   "source": [
    "# Numara cuvintele dintr-un sir\n",
    "\n",
    "sir1 = 'Ana nu mai are mere, are un cos; cu cirese!'\n",
    "count = 0\n",
    "var = sir1.replace(',', '').replace(';', '').replace('!', '').split()\n",
    "print(var)\n",
    "\n",
    "for i in var:      # split transforma sirul intr-o lista de cuvinte\n",
    "    count += 1\n",
    "    print(i, end=', ')\n",
    "print('\\nAm gasit', count, 'cuvinte')"
   ]
  },
  {
   "cell_type": "markdown",
   "id": "2558b04e",
   "metadata": {},
   "source": [
    "### <span class=\"green ita\">- <span class=\"red\">enumerate</span>()"
   ]
  },
  {
   "cell_type": "code",
   "execution_count": null,
   "id": "d701a412",
   "metadata": {},
   "outputs": [],
   "source": [
    "for i, j in enumerate(var, start=101):\n",
    "    print(\"Cuvant: \", j, \" => Numar:\", i)\n",
    "\n",
    "sir = 'mere,pere,alune,cirese,capsuni,gutui,castane'\n",
    "\n",
    "for i, j in enumerate(sir.split(','), start = 5):\n",
    "    print('Cineva are {0} {1}'.format(i, j))"
   ]
  }
 ],
 "metadata": {
  "kernelspec": {
   "display_name": "Python 3 (ipykernel)",
   "language": "python",
   "name": "python3"
  },
  "language_info": {
   "codemirror_mode": {
    "name": "ipython",
    "version": 3
   },
   "file_extension": ".py",
   "mimetype": "text/x-python",
   "name": "python",
   "nbconvert_exporter": "python",
   "pygments_lexer": "ipython3",
   "version": "3.9.7"
  }
 },
 "nbformat": 4,
 "nbformat_minor": 5
}
